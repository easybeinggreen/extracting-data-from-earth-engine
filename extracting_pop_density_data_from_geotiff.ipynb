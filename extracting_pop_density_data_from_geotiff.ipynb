{
 "cells": [
  {
   "cell_type": "code",
   "execution_count": 50,
   "metadata": {},
   "outputs": [],
   "source": [
    "import rasterio\n",
    "from rasterio.plot import show\n",
    "import numpy as np\n",
    "import pandas as pd\n",
    "import matplotlib.pyplot as plt\n",
    "%matplotlib inline"
   ]
  },
  {
   "cell_type": "markdown",
   "metadata": {},
   "source": [
    "Sources\n",
    "\n",
    "https://gis.stackexchange.com/questions/346288/extract-all-pixels-values-from-geotiff-with-python\n",
    "\n",
    "https://rasterio.readthedocs.io/en/latest/quickstart.html#reading-raster-data\n"
   ]
  },
  {
   "cell_type": "code",
   "execution_count": 2,
   "metadata": {},
   "outputs": [],
   "source": [
    "# read in the geotiff\n",
    "raster = rasterio.open('pop_density_image_to_data.tif')"
   ]
  },
  {
   "cell_type": "code",
   "execution_count": 9,
   "metadata": {},
   "outputs": [
    {
     "name": "stdout",
     "output_type": "stream",
     "text": [
      "The name of the raster is:  pop_density_image_to_data.tif\n",
      "The shape of the image is:  (447, 446)\n",
      "The number of bands in the raster is:  5\n",
      "The current mode out of read (r) and write(w) is:  r\n",
      "The current crs for the raster is:  EPSG:4326\n",
      "The current bounding box of the raster is:  BoundingBox(left=32.39946240778792, bottom=0.09930131117056085, right=32.80011102450523, top=0.500848243171987)\n"
     ]
    }
   ],
   "source": [
    "print('The name of the raster is: ', raster.name)\n",
    "print(\"The shape of the image is: \", raster.shape)\n",
    "print('The number of bands in the raster is: ', raster.count)\n",
    "print('The current mode out of read (r) and write(w) is: ', raster.mode)\n",
    "print('The current crs for the raster is: ', raster.crs)\n",
    "print('The current bounding box of the raster is: ', raster.bounds)"
   ]
  },
  {
   "cell_type": "code",
   "execution_count": 33,
   "metadata": {},
   "outputs": [
    {
     "name": "stdout",
     "output_type": "stream",
     "text": [
      "Raster width:  446\n",
      "Raster height:  447\n",
      "Raster left bound:  32.39946240778792\n"
     ]
    }
   ],
   "source": [
    "print('Raster width: ',raster.width)\n",
    "print('Raster height: ', raster.height)\n",
    "print('Raster left bound: ', raster.bounds.left) # repeat for top, left, right"
   ]
  },
  {
   "cell_type": "markdown",
   "metadata": {},
   "source": [
    "## The raster has 1 band which is broken into 5 columns from 1 to 5 from 00, 05, 10, 15, 20. This is known from the source data in Earth Engine. But rasterio is treating this as 5 bands, lets go with that."
   ]
  },
  {
   "cell_type": "code",
   "execution_count": 10,
   "metadata": {},
   "outputs": [
    {
     "data": {
      "text/plain": [
       "array([[272.2379 , 271.1793 , 271.1793 , ..., 406.65363, 406.65363,\n",
       "        406.65363],\n",
       "       [302.2908 , 272.0862 , 272.0862 , ..., 406.6536 , 406.6536 ,\n",
       "        406.6536 ],\n",
       "       [302.2908 , 272.0862 , 272.0862 , ..., 406.6536 , 406.6536 ,\n",
       "        406.6536 ],\n",
       "       ...,\n",
       "       [220.09372, 220.09372, 220.09372, ...,   0.     ,   0.     ,\n",
       "          0.     ],\n",
       "       [220.09372, 220.09372, 220.09372, ...,   0.     ,   0.     ,\n",
       "          0.     ],\n",
       "       [220.09373, 220.09373, 220.09373, ...,   0.     ,   0.     ,\n",
       "          0.     ]], dtype=float32)"
      ]
     },
     "execution_count": 10,
     "metadata": {},
     "output_type": "execute_result"
    }
   ],
   "source": [
    "# Generating a 2D arry of values for a specific band\n",
    "band_no = 5  # this assumes you want the fifth band, change to match the band number you want\n",
    "band_array = raster.read(band_no)  # band_arr is a numpy array of shape (raster.width, raster.height)\n",
    "band_array"
   ]
  },
  {
   "cell_type": "code",
   "execution_count": 34,
   "metadata": {},
   "outputs": [
    {
     "data": {
      "text/plain": [
       "220.09373"
      ]
     },
     "execution_count": 34,
     "metadata": {},
     "output_type": "execute_result"
    }
   ],
   "source": [
    "band_array[446, 0]"
   ]
  },
  {
   "cell_type": "markdown",
   "metadata": {},
   "source": [
    "## We can pull out a value by feeding in the index values "
   ]
  },
  {
   "cell_type": "code",
   "execution_count": 15,
   "metadata": {},
   "outputs": [],
   "source": [
    "# Creating a dict of x, references and the value\n",
    "px_vals = []\n",
    "\n",
    "for x in range(band_array.shape[0]):\n",
    "    for y in range(band_array.shape[1]):\n",
    "        px_vals.append({'x': x, \n",
    "                        'y': y,\n",
    "                        'value': band_array[x, y]})"
   ]
  },
  {
   "cell_type": "code",
   "execution_count": 18,
   "metadata": {},
   "outputs": [
    {
     "data": {
      "text/plain": [
       "[{'x': 0, 'y': 0, 'value': 272.2379},\n",
       " {'x': 0, 'y': 1, 'value': 271.1793},\n",
       " {'x': 0, 'y': 2, 'value': 271.1793},\n",
       " {'x': 0, 'y': 3, 'value': 271.1793},\n",
       " {'x': 0, 'y': 4, 'value': 271.1793}]"
      ]
     },
     "execution_count": 18,
     "metadata": {},
     "output_type": "execute_result"
    }
   ],
   "source": [
    "# Looking at the first five values\n",
    "px_vals[0:5]"
   ]
  },
  {
   "cell_type": "code",
   "execution_count": 12,
   "metadata": {},
   "outputs": [
    {
     "data": {
      "text/plain": [
       "220.09372"
      ]
     },
     "execution_count": 12,
     "metadata": {},
     "output_type": "execute_result"
    }
   ],
   "source": [
    "# Looking them up one by one eg x=420, y=5\n",
    "band_array[420, 5]"
   ]
  },
  {
   "cell_type": "markdown",
   "metadata": {},
   "source": [
    "## Linking values back to lat and long: Raster transform"
   ]
  },
  {
   "cell_type": "markdown",
   "metadata": {},
   "source": [
    "## Raster.trasnform is a powerful function that conducts an afine transformation matrix on your index values and generates the lat and long coordinates."
   ]
  },
  {
   "cell_type": "code",
   "execution_count": 36,
   "metadata": {},
   "outputs": [
    {
     "data": {
      "text/plain": [
       "Affine(0.0008983152841195215, 0.0, 32.39946240778792,\n",
       "       0.0, -0.0008983152841195215, 0.500848243171987)"
      ]
     },
     "execution_count": 36,
     "metadata": {},
     "output_type": "execute_result"
    }
   ],
   "source": [
    "raster.transform"
   ]
  },
  {
   "cell_type": "code",
   "execution_count": 23,
   "metadata": {},
   "outputs": [
    {
     "name": "stdout",
     "output_type": "stream",
     "text": [
      "coordinates of the top lef hand corner of bounding box:  (32.39946240778792, 0.500848243171987)\n",
      "coordinates of the bottom lef hand corner of bounding box:  (32.39946240778792, 0.10019962645468034)\n"
     ]
    }
   ],
   "source": [
    "# For example conducting transfomr on the 0,0 coordinates give us the coordinates of the TOP LEFT corner\n",
    "print('coordinates of the top lef hand corner of bounding box: ', raster.transform * (0, 0))\n",
    "print('coordinates of the bottom lef hand corner of bounding box: ', raster.transform * (0, 446))"
   ]
  },
  {
   "cell_type": "markdown",
   "metadata": {},
   "source": [
    "## Why does this matter? lets try and visualise"
   ]
  },
  {
   "cell_type": "code",
   "execution_count": 27,
   "metadata": {},
   "outputs": [
    {
     "data": {
      "image/png": "[encoded data removed]",
      "text/plain": [
       "<Figure size 432x288 with 1 Axes>"
      ]
     },
     "metadata": {
      "needs_background": "light"
     },
     "output_type": "display_data"
    }
   ],
   "source": [
    "# Generate an image of the raster, band 5 using 'plasma' colour map\n",
    "# Note the values are based on index number starting int he top left. Not so helpful\n",
    "plt.imshow(raster.read(5), cmap='plasma')\n",
    "plt.show()"
   ]
  },
  {
   "cell_type": "code",
   "execution_count": 31,
   "metadata": {},
   "outputs": [
    {
     "data": {
      "image/png": "[encoded data removed]",
      "text/plain": [
       "<Figure size 432x288 with 1 Axes>"
      ]
     },
     "metadata": {
      "needs_background": "light"
     },
     "output_type": "display_data"
    }
   ],
   "source": [
    "# Conducting the transform and then plotting using rasterio plotting tool - now the indexes are how we want them\n",
    "show(raster.read(5), transform=raster.transform, cmap = 'plasma');"
   ]
  },
  {
   "cell_type": "markdown",
   "metadata": {},
   "source": [
    "## Now, finally extracting a value from the coordinates"
   ]
  },
  {
   "cell_type": "code",
   "execution_count": 38,
   "metadata": {},
   "outputs": [],
   "source": [
    "def value_from_long_lat( long, lat):\n",
    "    row, col = raster.index(long, lat)\n",
    "    band_array = raster.read(5)\n",
    "    value = band_array[row,col]\n",
    "    return value"
   ]
  },
  {
   "cell_type": "code",
   "execution_count": 39,
   "metadata": {},
   "outputs": [
    {
     "data": {
      "text/plain": [
       "0.0"
      ]
     },
     "execution_count": 39,
     "metadata": {},
     "output_type": "execute_result"
    }
   ],
   "source": [
    "# For example (32.8, 0.1 in Murchison bay)\n",
    "value_from_long_lat(32.8, 0.1)"
   ]
  },
  {
   "cell_type": "code",
   "execution_count": 41,
   "metadata": {},
   "outputs": [
    {
     "data": {
      "text/plain": [
       "10835.025"
      ]
     },
     "execution_count": 41,
     "metadata": {},
     "output_type": "execute_result"
    }
   ],
   "source": [
    "# For example (32.52, 0.356 in the Kawempe hotspot)\n",
    "value_from_long_lat(32.53, 0.356)"
   ]
  },
  {
   "cell_type": "code",
   "execution_count": null,
   "metadata": {},
   "outputs": [],
   "source": [
    "Finally putting the lat long and coordinates in the same grid"
   ]
  },
  {
   "cell_type": "code",
   "execution_count": 47,
   "metadata": {},
   "outputs": [],
   "source": [
    "# Creating a dict of x,y references and the value\n",
    "px_vals = []\n",
    "\n",
    "for x in range(band_array.shape[0]):\n",
    "    for y in range(band_array.shape[1]):\n",
    "        px_vals.append({'x': x, \n",
    "                        'y': y,\n",
    "                        'lat': (raster.transform * (x,y))[1],\n",
    "                        'lon': (raster.transform * (x,y))[0],\n",
    "                        'value': band_array[x, y]})"
   ]
  },
  {
   "cell_type": "code",
   "execution_count": 55,
   "metadata": {},
   "outputs": [
    {
     "data": {
      "text/plain": [
       "[{'x': 0,\n",
       "  'y': 0,\n",
       "  'lat': 0.500848243171987,\n",
       "  'lon': 32.39946240778792,\n",
       "  'value': 272.2379},\n",
       " {'x': 0,\n",
       "  'y': 1,\n",
       "  'lat': 0.4999499278878674,\n",
       "  'lon': 32.39946240778792,\n",
       "  'value': 271.1793},\n",
       " {'x': 0,\n",
       "  'y': 2,\n",
       "  'lat': 0.4990516126037479,\n",
       "  'lon': 32.39946240778792,\n",
       "  'value': 271.1793},\n",
       " {'x': 0,\n",
       "  'y': 3,\n",
       "  'lat': 0.4981532973196284,\n",
       "  'lon': 32.39946240778792,\n",
       "  'value': 271.1793},\n",
       " {'x': 0,\n",
       "  'y': 4,\n",
       "  'lat': 0.4972549820355089,\n",
       "  'lon': 32.39946240778792,\n",
       "  'value': 271.1793}]"
      ]
     },
     "execution_count": 55,
     "metadata": {},
     "output_type": "execute_result"
    }
   ],
   "source": [
    "px_vals[0:5]"
   ]
  },
  {
   "cell_type": "code",
   "execution_count": 51,
   "metadata": {},
   "outputs": [
    {
     "data": {
      "text/html": [
       "<div>\n",
       "<style scoped>\n",
       "    .dataframe tbody tr th:only-of-type {\n",
       "        vertical-align: middle;\n",
       "    }\n",
       "\n",
       "    .dataframe tbody tr th {\n",
       "        vertical-align: top;\n",
       "    }\n",
       "\n",
       "    .dataframe thead th {\n",
       "        text-align: right;\n",
       "    }\n",
       "</style>\n",
       "<table border=\"1\" class=\"dataframe\">\n",
       "  <thead>\n",
       "    <tr style=\"text-align: right;\">\n",
       "      <th></th>\n",
       "      <th>x</th>\n",
       "      <th>y</th>\n",
       "      <th>lat</th>\n",
       "      <th>lon</th>\n",
       "      <th>value</th>\n",
       "    </tr>\n",
       "  </thead>\n",
       "  <tbody>\n",
       "    <tr>\n",
       "      <td>0</td>\n",
       "      <td>0</td>\n",
       "      <td>0</td>\n",
       "      <td>0.500848</td>\n",
       "      <td>32.399462</td>\n",
       "      <td>272.237915</td>\n",
       "    </tr>\n",
       "    <tr>\n",
       "      <td>1</td>\n",
       "      <td>0</td>\n",
       "      <td>1</td>\n",
       "      <td>0.499950</td>\n",
       "      <td>32.399462</td>\n",
       "      <td>271.179291</td>\n",
       "    </tr>\n",
       "    <tr>\n",
       "      <td>2</td>\n",
       "      <td>0</td>\n",
       "      <td>2</td>\n",
       "      <td>0.499052</td>\n",
       "      <td>32.399462</td>\n",
       "      <td>271.179291</td>\n",
       "    </tr>\n",
       "    <tr>\n",
       "      <td>3</td>\n",
       "      <td>0</td>\n",
       "      <td>3</td>\n",
       "      <td>0.498153</td>\n",
       "      <td>32.399462</td>\n",
       "      <td>271.179291</td>\n",
       "    </tr>\n",
       "    <tr>\n",
       "      <td>4</td>\n",
       "      <td>0</td>\n",
       "      <td>4</td>\n",
       "      <td>0.497255</td>\n",
       "      <td>32.399462</td>\n",
       "      <td>271.179291</td>\n",
       "    </tr>\n",
       "    <tr>\n",
       "      <td>...</td>\n",
       "      <td>...</td>\n",
       "      <td>...</td>\n",
       "      <td>...</td>\n",
       "      <td>...</td>\n",
       "      <td>...</td>\n",
       "    </tr>\n",
       "    <tr>\n",
       "      <td>199357</td>\n",
       "      <td>446</td>\n",
       "      <td>441</td>\n",
       "      <td>0.104691</td>\n",
       "      <td>32.800111</td>\n",
       "      <td>0.000000</td>\n",
       "    </tr>\n",
       "    <tr>\n",
       "      <td>199358</td>\n",
       "      <td>446</td>\n",
       "      <td>442</td>\n",
       "      <td>0.103793</td>\n",
       "      <td>32.800111</td>\n",
       "      <td>0.000000</td>\n",
       "    </tr>\n",
       "    <tr>\n",
       "      <td>199359</td>\n",
       "      <td>446</td>\n",
       "      <td>443</td>\n",
       "      <td>0.102895</td>\n",
       "      <td>32.800111</td>\n",
       "      <td>0.000000</td>\n",
       "    </tr>\n",
       "    <tr>\n",
       "      <td>199360</td>\n",
       "      <td>446</td>\n",
       "      <td>444</td>\n",
       "      <td>0.101996</td>\n",
       "      <td>32.800111</td>\n",
       "      <td>0.000000</td>\n",
       "    </tr>\n",
       "    <tr>\n",
       "      <td>199361</td>\n",
       "      <td>446</td>\n",
       "      <td>445</td>\n",
       "      <td>0.101098</td>\n",
       "      <td>32.800111</td>\n",
       "      <td>0.000000</td>\n",
       "    </tr>\n",
       "  </tbody>\n",
       "</table>\n",
       "<p>199362 rows × 5 columns</p>\n",
       "</div>"
      ],
      "text/plain": [
       "          x    y       lat        lon       value\n",
       "0         0    0  0.500848  32.399462  272.237915\n",
       "1         0    1  0.499950  32.399462  271.179291\n",
       "2         0    2  0.499052  32.399462  271.179291\n",
       "3         0    3  0.498153  32.399462  271.179291\n",
       "4         0    4  0.497255  32.399462  271.179291\n",
       "...     ...  ...       ...        ...         ...\n",
       "199357  446  441  0.104691  32.800111    0.000000\n",
       "199358  446  442  0.103793  32.800111    0.000000\n",
       "199359  446  443  0.102895  32.800111    0.000000\n",
       "199360  446  444  0.101996  32.800111    0.000000\n",
       "199361  446  445  0.101098  32.800111    0.000000\n",
       "\n",
       "[199362 rows x 5 columns]"
      ]
     },
     "execution_count": 51,
     "metadata": {},
     "output_type": "execute_result"
    }
   ],
   "source": [
    "df = pd.DataFrame.from_dict(px_vals)\n",
    "df"
   ]
  },
  {
   "cell_type": "code",
   "execution_count": 53,
   "metadata": {},
   "outputs": [],
   "source": [
    "df.to_csv('pop_density_kampala.csv')"
   ]
  },
  {
   "cell_type": "code",
   "execution_count": null,
   "metadata": {},
   "outputs": [],
   "source": []
  },
  {
   "cell_type": "code",
   "execution_count": null,
   "metadata": {},
   "outputs": [],
   "source": []
  },
  {
   "cell_type": "code",
   "execution_count": null,
   "metadata": {},
   "outputs": [],
   "source": []
  },
  {
   "cell_type": "code",
   "execution_count": null,
   "metadata": {},
   "outputs": [],
   "source": []
  },
  {
   "cell_type": "code",
   "execution_count": null,
   "metadata": {},
   "outputs": [],
   "source": []
  },
  {
   "cell_type": "code",
   "execution_count": null,
   "metadata": {},
   "outputs": [],
   "source": []
  },
  {
   "cell_type": "code",
   "execution_count": null,
   "metadata": {},
   "outputs": [],
   "source": []
  },
  {
   "cell_type": "code",
   "execution_count": null,
   "metadata": {},
   "outputs": [],
   "source": []
  }
 ],
 "metadata": {
  "kernelspec": {
   "display_name": "Python 3",
   "language": "python",
   "name": "python3"
  },
  "language_info": {
   "codemirror_mode": {
    "name": "ipython",
    "version": 3
   },
   "file_extension": ".py",
   "mimetype": "text/x-python",
   "name": "python",
   "nbconvert_exporter": "python",
   "pygments_lexer": "ipython3",
   "version": "3.7.4"
  }
 },
 "nbformat": 4,
 "nbformat_minor": 2
}
